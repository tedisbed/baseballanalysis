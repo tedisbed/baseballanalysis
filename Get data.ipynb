{
 "cells": [
  {
   "cell_type": "code",
   "execution_count": 1,
   "metadata": {},
   "outputs": [],
   "source": [
    "from requests import get\n",
    "from requests.exceptions import RequestException\n",
    "from contextlib import closing\n",
    "from bs4 import BeautifulSoup\n",
    "import urllib3\n",
    "from selenium import webdriver"
   ]
  },
  {
   "cell_type": "code",
   "execution_count": 14,
   "metadata": {},
   "outputs": [],
   "source": [
    "url = 'http://www.oddsportal.com/baseball/usa/mlb-2006/results/#/page/21/'\n",
    "url2 = 'http://www.oddsportal.com/baseball/usa/mlb-2010/results/'\n",
    "badurl = 'http://www.oddsportal.com/baseball/usa/mlb-2010/results/#/page/88/'\n",
    "part1 = 'http://www.oddsportal.com/baseball/usa/mlb-'\n",
    "part2 = '/results/#/page/'\n",
    "parturl = 'http://www.oddsportal.com/baseball/usa/mlb-2006/results/#/page/'"
   ]
  },
  {
   "cell_type": "code",
   "execution_count": 15,
   "metadata": {
    "scrolled": true
   },
   "outputs": [],
   "source": [
    "def get_html(url):\n",
    "    browser = webdriver.Chrome()\n",
    "    #browser.implicitly_wait(30)\n",
    "    browser.get(url)\n",
    "    innerHTML = browser.execute_script(\"return document.body.innerHTML\")\n",
    "    browser.close()\n",
    "    #http = urllib3.PoolManager()\n",
    "\n",
    "    #response = http.request('GET', url)\n",
    "    return BeautifulSoup(innerHTML, \"lxml\")"
   ]
  },
  {
   "cell_type": "code",
   "execution_count": 8,
   "metadata": {},
   "outputs": [
    {
     "data": {
      "text/plain": [
       "'No data available'"
      ]
     },
     "execution_count": 8,
     "metadata": {},
     "output_type": "execute_result"
    }
   ],
   "source": [
    "soup = get_html(badurl)\n",
    "soup.find(id=\"tournamentTable\").table.tbody.contents[0].text"
   ]
  },
  {
   "cell_type": "code",
   "execution_count": 18,
   "metadata": {
    "scrolled": false
   },
   "outputs": [
    {
     "name": "stdout",
     "output_type": "stream",
     "text": [
      "http://www.oddsportal.com/baseball/usa/mlb-2018/results/#/page/21/\n",
      "\n",
      "\n",
      "\n",
      "\n",
      "\n",
      "\n",
      "\n",
      "\n",
      "\n",
      "\n",
      "\n",
      "\n",
      "\n",
      "\n",
      "\n",
      "\n",
      "\n",
      "\n",
      "The page you requested is not available.\n",
      "\n",
      "\n",
      "\n",
      "Page not found\n",
      "This page not exist on OddsPortal.com!\n",
      "\n",
      "\n",
      "\n",
      "\n",
      "\n",
      "Copyright © 2008-12 OddsPortal.com (v)\n",
      "\n",
      "\n",
      "\n",
      "\n",
      " \n",
      " \n",
      " \n",
      " \n",
      "\n",
      "\n",
      "\n",
      "\n",
      "\n"
     ]
    },
    {
     "ename": "AttributeError",
     "evalue": "'NoneType' object has no attribute 'table'",
     "output_type": "error",
     "traceback": [
      "\u001b[1;31m---------------------------------------------------------------------------\u001b[0m",
      "\u001b[1;31mAttributeError\u001b[0m                            Traceback (most recent call last)",
      "\u001b[1;32m<ipython-input-18-4a0758c2e56d>\u001b[0m in \u001b[0;36m<module>\u001b[1;34m()\u001b[0m\n\u001b[0;32m      8\u001b[0m     \u001b[0mpage\u001b[0m \u001b[1;33m+=\u001b[0m \u001b[1;36m1\u001b[0m\u001b[1;33m\u001b[0m\u001b[0m\n\u001b[0;32m      9\u001b[0m     \u001b[0mprint\u001b[0m\u001b[1;33m(\u001b[0m\u001b[0msoup\u001b[0m\u001b[1;33m.\u001b[0m\u001b[0mtext\u001b[0m\u001b[1;33m)\u001b[0m\u001b[1;33m\u001b[0m\u001b[0m\n\u001b[1;32m---> 10\u001b[1;33m     \u001b[1;32mif\u001b[0m \u001b[0msoup\u001b[0m\u001b[1;33m.\u001b[0m\u001b[0mfind\u001b[0m\u001b[1;33m(\u001b[0m\u001b[0mid\u001b[0m\u001b[1;33m=\u001b[0m\u001b[1;34m\"tournamentTable\"\u001b[0m\u001b[1;33m)\u001b[0m\u001b[1;33m.\u001b[0m\u001b[0mtable\u001b[0m\u001b[1;33m.\u001b[0m\u001b[0mtbody\u001b[0m\u001b[1;33m.\u001b[0m\u001b[0mcontents\u001b[0m\u001b[1;33m[\u001b[0m\u001b[1;36m0\u001b[0m\u001b[1;33m]\u001b[0m\u001b[1;33m.\u001b[0m\u001b[0mtext\u001b[0m \u001b[1;33m==\u001b[0m \u001b[1;34m'No data available'\u001b[0m\u001b[1;33m:\u001b[0m\u001b[1;33m\u001b[0m\u001b[0m\n\u001b[0m\u001b[0;32m     11\u001b[0m         \u001b[0mprint\u001b[0m\u001b[1;33m(\u001b[0m\u001b[1;34m\"DONE\"\u001b[0m\u001b[1;33m)\u001b[0m\u001b[1;33m\u001b[0m\u001b[0m\n\u001b[0;32m     12\u001b[0m         \u001b[1;32mbreak\u001b[0m\u001b[1;33m\u001b[0m\u001b[0m\n",
      "\u001b[1;31mAttributeError\u001b[0m: 'NoneType' object has no attribute 'table'"
     ]
    }
   ],
   "source": [
    "page = 21\n",
    "CSV = 'team1,team2,score1,score2,odds1,odds2,datetime,notes\\n'\n",
    "f = open(\"2006.csv\", \"w\")\n",
    "year = 2018\n",
    "while page != 2:\n",
    "    print (part1 + str(year) + part2 + str(page)+ '/')\n",
    "    soup = get_html(part1 + str(year) + part2 + str(page)+ '/')\n",
    "    page += 1\n",
    "    print(soup.text)\n",
    "    if soup.find(id=\"tournamentTable\").table.tbody.contents[0].text == 'No data available':\n",
    "        print(\"DONE\")\n",
    "        break\n",
    "        \n",
    "    Date = ''\n",
    "    note = ''\n",
    "    for i in soup.find(id=\"tournamentTable\").table.tbody.contents:\n",
    "        if len(i.contents) == 4:\n",
    "            #if there are playoffs more data here\n",
    "            #if preaseason we should not take\n",
    "            # if it contains a dash its either pre or post season\n",
    "            #print (i.contents[0].text)\n",
    "            info = i.contents[0].text.split('-')\n",
    "            Date = info[0].rstrip()\n",
    "            if len(info) == 2:\n",
    "                note = info[1]\n",
    "\n",
    "        elif len(i.contents) == 6:\n",
    "            #first team is home second is away\n",
    "            teams = i.contents[1].text.split('-')\n",
    "            CSV += teams[0].rstrip() + ','\n",
    "            CSV += teams[1].rstrip() + ','\n",
    "\n",
    "            score = i.contents[2].text.split(':')\n",
    "            if len(score) == 1:\n",
    "                CSV += \",,\"\n",
    "            else:\n",
    "                CSV += score[0] + ','\n",
    "                CSV += score[1] + ','\n",
    "            \n",
    "\n",
    "            CSV += i.contents[3].text + ','\n",
    "            CSV += i.contents[4].text + ','\n",
    "\n",
    "            CSV += Date + ' '+ i.contents[0].text + ','\n",
    "            CSV += note + '\\n'\n",
    "            #print (i.contents[0].text) # time\n",
    "            #print (i.contents[1].text) # teams x\n",
    "            #print (i.contents[2].text) # score x\n",
    "            #print (i.contents[3].text) # first team odds\n",
    "            #print (i.contents[4].text) # second team odds \n",
    "        else:\n",
    "            continue\n",
    "\n",
    "        f.write(CSV)\n",
    "        CSV = ''\n",
    "#print(CSV)\n",
    "\n",
    "\n",
    "f.close()"
   ]
  },
  {
   "cell_type": "code",
   "execution_count": null,
   "metadata": {},
   "outputs": [],
   "source": []
  },
  {
   "cell_type": "code",
   "execution_count": null,
   "metadata": {},
   "outputs": [],
   "source": []
  },
  {
   "cell_type": "code",
   "execution_count": null,
   "metadata": {},
   "outputs": [],
   "source": []
  }
 ],
 "metadata": {
  "kernelspec": {
   "display_name": "Python 3",
   "language": "python",
   "name": "python3"
  },
  "language_info": {
   "codemirror_mode": {
    "name": "ipython",
    "version": 3
   },
   "file_extension": ".py",
   "mimetype": "text/x-python",
   "name": "python",
   "nbconvert_exporter": "python",
   "pygments_lexer": "ipython3",
   "version": "3.6.5"
  }
 },
 "nbformat": 4,
 "nbformat_minor": 2
}

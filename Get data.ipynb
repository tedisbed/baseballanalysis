{
 "cells": [
  {
   "cell_type": "code",
   "execution_count": 1,
   "metadata": {},
   "outputs": [],
   "source": [
    "from requests import get\n",
    "from requests.exceptions import RequestException\n",
    "from contextlib import closing\n",
    "from bs4 import BeautifulSoup\n",
    "import urllib3\n",
    "from selenium import webdriver"
   ]
  },
  {
   "cell_type": "code",
   "execution_count": 2,
   "metadata": {},
   "outputs": [],
   "source": [
    "url = 'http://www.oddsportal.com/baseball/usa/mlb-2006/results/#/page/21/'\n",
    "url2 = 'http://www.oddsportal.com/baseball/usa/mlb-2010/results/'\n",
    "badurl = 'http://www.oddsportal.com/baseball/usa/mlb-2010/results/#/page/88/'\n",
    "part1 = 'http://www.oddsportal.com/baseball/usa/mlb-'\n",
    "part2 = '/results/#/page/'\n",
    "parturl = 'http://www.oddsportal.com/baseball/usa/mlb-2006/results/#/page/'"
   ]
  },
  {
   "cell_type": "code",
   "execution_count": 3,
   "metadata": {
    "scrolled": true
   },
   "outputs": [],
   "source": [
    "def get_html(url):\n",
    "    browser = webdriver.Chrome()\n",
    "    #browser.implicitly_wait(30)\n",
    "    browser.get(url)\n",
    "    innerHTML = browser.execute_script(\"return document.body.innerHTML\")\n",
    "    browser.close()\n",
    "    #http = urllib3.PoolManager()\n",
    "\n",
    "    #response = http.request('GET', url)\n",
    "    return BeautifulSoup(innerHTML, \"lxml\")"
   ]
  },
  {
   "cell_type": "code",
   "execution_count": 8,
   "metadata": {},
   "outputs": [
    {
     "data": {
      "text/plain": [
       "'No data available'"
      ]
     },
     "execution_count": 8,
     "metadata": {},
     "output_type": "execute_result"
    }
   ],
   "source": [
    "soup = get_html(badurl)\n",
    "soup.find(id=\"tournamentTable\").table.tbody.contents[0].text"
   ]
  },
  {
   "cell_type": "code",
   "execution_count": null,
   "metadata": {
    "scrolled": false
   },
   "outputs": [
    {
     "name": "stdout",
     "output_type": "stream",
     "text": [
      "http://www.oddsportal.com/baseball/usa/mlb-2006/results/#/page/1/\n",
      "http://www.oddsportal.com/baseball/usa/mlb-2006/results/#/page/2/\n",
      "http://www.oddsportal.com/baseball/usa/mlb-2006/results/#/page/3/\n",
      "http://www.oddsportal.com/baseball/usa/mlb-2006/results/#/page/4/\n",
      "http://www.oddsportal.com/baseball/usa/mlb-2006/results/#/page/5/\n",
      "http://www.oddsportal.com/baseball/usa/mlb-2006/results/#/page/6/\n",
      "http://www.oddsportal.com/baseball/usa/mlb-2006/results/#/page/7/\n",
      "http://www.oddsportal.com/baseball/usa/mlb-2006/results/#/page/8/\n",
      "http://www.oddsportal.com/baseball/usa/mlb-2006/results/#/page/9/\n",
      "http://www.oddsportal.com/baseball/usa/mlb-2006/results/#/page/10/\n"
     ]
    }
   ],
   "source": [
    "page = 1\n",
    "CSV = 'team1,team2,score1,score2,odds1,odds2,datetime,notes\\n'\n",
    "f = open(\"2006.csv\", \"w\")\n",
    "year = 2006\n",
    "while True:\n",
    "    print (part1 + str(year) + part2 + str(page)+ '/')\n",
    "    soup = get_html(part1 + str(year) + part2 + str(page)+ '/')\n",
    "    page += 1\n",
    "    if soup.find(id=\"tournamentTable\").table.tbody.contents[0].text == 'No data available':\n",
    "        print(\"DONE\")\n",
    "        break\n",
    "    Date = ''\n",
    "    note = ''\n",
    "    for i in soup.find(id=\"tournamentTable\").table.tbody.contents:\n",
    "        if len(i.contents) == 4:\n",
    "            #if there are playoffs more data here\n",
    "            #if preaseason we should not take\n",
    "            # if it contains a dash its either pre or post season\n",
    "            #print (i.contents[0].text)\n",
    "            info = i.contents[0].text.split('-')\n",
    "            Date = info[0].rstrip()\n",
    "            if len(info) == 2:\n",
    "                note = info[1].lstrip()\n",
    "\n",
    "        elif len(i.contents) == 6:\n",
    "            #first team is home second is away\n",
    "            teams = i.contents[1].text.split('-')\n",
    "            CSV += teams[0].rstrip() + ','\n",
    "            CSV += teams[1].rstrip().lstrip() + ','\n",
    "\n",
    "            score = i.contents[2].text.split(':')\n",
    "            if len(score) == 1:\n",
    "                CSV += \",,\"\n",
    "            else:\n",
    "                CSV += score[0] + ','\n",
    "                CSV += score[1] + ','\n",
    "            \n",
    "\n",
    "            CSV += i.contents[3].text + ','\n",
    "            CSV += i.contents[4].text + ','\n",
    "\n",
    "            CSV += Date + ' '+ i.contents[0].text + ','\n",
    "            CSV += note + '\\n'\n",
    "            #print (i.contents[0].text) # time\n",
    "            #print (i.contents[1].text) # teams x\n",
    "            #print (i.contents[2].text) # score x\n",
    "            #print (i.contents[3].text) # first team odds\n",
    "            #print (i.contents[4].text) # second team odds \n",
    "        else:\n",
    "            continue\n",
    "\n",
    "        f.write(CSV)\n",
    "        CSV = ''\n",
    "#print(CSV)\n",
    "\n",
    "f.close()"
   ]
  },
  {
   "cell_type": "code",
   "execution_count": null,
   "metadata": {},
   "outputs": [],
   "source": []
  },
  {
   "cell_type": "code",
   "execution_count": null,
   "metadata": {},
   "outputs": [],
   "source": []
  },
  {
   "cell_type": "code",
   "execution_count": null,
   "metadata": {},
   "outputs": [],
   "source": []
  }
 ],
 "metadata": {
  "kernelspec": {
   "display_name": "Python 3",
   "language": "python",
   "name": "python3"
  },
  "language_info": {
   "codemirror_mode": {
    "name": "ipython",
    "version": 3
   },
   "file_extension": ".py",
   "mimetype": "text/x-python",
   "name": "python",
   "nbconvert_exporter": "python",
   "pygments_lexer": "ipython3",
   "version": "3.6.5"
  }
 },
 "nbformat": 4,
 "nbformat_minor": 2
}
